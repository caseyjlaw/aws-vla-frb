{
 "cells": [
  {
   "cell_type": "markdown",
   "metadata": {
    "urth": {
     "dashboard": {
      "layout": {
       "col": 0,
       "height": 4,
       "row": 0,
       "width": 4
      }
     }
    }
   },
   "source": [
    "# realfast analysis"
   ]
  },
  {
   "cell_type": "code",
   "execution_count": null,
   "metadata": {
    "collapsed": false,
    "scrolled": false,
    "urth": {
     "dashboard": {
      "hidden": true
     }
    }
   },
   "outputs": [],
   "source": [
    "import logging\n",
    "logger = logging.getLogger()\n",
    "for hdlr in logger.handlers:\n",
    "    logger.removeHandler(hdlr)\n",
    "logging.basicConfig()\n",
    "\n",
    "import glob, os, pickle\n",
    "from bokeh.plotting import show, output_notebook\n",
    "from ipywidgets import interact, FloatSlider, Text, Dropdown\n",
    "from rtpipe import interactive\n",
    "import activegit\n",
    "import numpy as np"
   ]
  },
  {
   "cell_type": "code",
   "execution_count": null,
   "metadata": {
    "collapsed": false,
    "scrolled": false,
    "urth": {
     "dashboard": {
      "hidden": true
     }
    }
   },
   "outputs": [],
   "source": [
    "output_notebook()"
   ]
  },
  {
   "cell_type": "code",
   "execution_count": null,
   "metadata": {
    "collapsed": false,
    "scrolled": false,
    "urth": {
     "dashboard": {
      "hidden": true
     }
    }
   },
   "outputs": [],
   "source": [
    "print('Working directory: {0}'.format(os.getcwd()))\n",
    "try:\n",
    "    fileroot = os.environ['fileroot']\n",
    "    print('Setting fileroot to {0} from environment variable.\\n'.format(fileroot))\n",
    "    candsfile = 'cands_{0}_merge.pkl'.format(fileroot)\n",
    "    noisefile = 'noise_{0}_merge.pkl'.format(fileroot)\n",
    "except KeyError:\n",
    "    sdmdir = os.getcwd()\n",
    "    print('Setting sdmdir to current directory {0}\\n'.format(os.path.abspath(sdmdir)))\n",
    "    candsfiles = glob.glob('cands_*_merge.pkl')\n",
    "    noisefiles = glob.glob('noise_*_merge.pkl')\n",
    "    if len(candsfiles) == 1 and len(noisefiles) == 1:\n",
    "        print('Found one cands/merge file set')\n",
    "    else:\n",
    "        print('Found multiple cands/noise file sets. Taking first.')\n",
    "\n",
    "    candsfile = candsfiles[0]\n",
    "    noisefile = noisefiles[0]\n",
    "    fileroot = candsfile.rstrip('_merge.pkl').lstrip('cands_')\n",
    "print('Set: \\n\\t candsfile {} \\n\\t noisefile {} \\n\\t fileroot {} '.format(candsfile, noisefile, fileroot))"
   ]
  },
  {
   "cell_type": "markdown",
   "metadata": {
    "urth": {
     "dashboard": {
      "hidden": true
     }
    }
   },
   "source": [
    "### Prepare data and noise plot"
   ]
  },
  {
   "cell_type": "code",
   "execution_count": null,
   "metadata": {
    "collapsed": false,
    "scrolled": false,
    "urth": {
     "dashboard": {
      "hidden": true
     }
    }
   },
   "outputs": [],
   "source": [
    "loc, prop, d = interactive.read_candidates(candsfile, returnstate=True)\n",
    "data = interactive.readdata(d=d, cands=(loc, prop))\n",
    "noiseplot = interactive.plotnoise(noisefile, plot_width=450, plot_height=400)"
   ]
  },
  {
   "cell_type": "markdown",
   "metadata": {},
   "source": [
    "### Calculate classifier score from latest training set"
   ]
  },
  {
   "cell_type": "code",
   "execution_count": null,
   "metadata": {
    "collapsed": false,
    "scrolled": false
   },
   "outputs": [],
   "source": [
    "try:\n",
    "    agdir = os.environ['agdir']\n",
    "except KeyError:\n",
    "    home = os.environ['HOME']\n",
    "    agdir = os.path.join(home, 'code', 'alnotebook')\n",
    "try:\n",
    "    ag = activegit.ActiveGit(agdir)\n",
    "    clf = ag.read_classifier()\n",
    "    statfeats = [0,4,5,6,7,8]\n",
    "    data['score'] = clf.predict_proba((np.nan_to_num(prop[:,statfeats])))[:,1]  # take real score\n",
    "except:\n",
    "    print('Failure when parsing activegit repo or applying classification.')"
   ]
  },
  {
   "cell_type": "markdown",
   "metadata": {
    "urth": {
     "dashboard": {
      "hidden": true
     }
    }
   },
   "source": [
    "### Remove bad times and cands, then calculate indices"
   ]
  },
  {
   "cell_type": "code",
   "execution_count": null,
   "metadata": {
    "collapsed": false,
    "scrolled": false,
    "urth": {
     "dashboard": {
      "layout": {
       "col": 4,
       "height": 6,
       "row": 0,
       "width": 7
      }
     }
    }
   },
   "outputs": [],
   "source": [
    "plinds = {'cir': [], 'cro': [], 'edg': []}  # initialize plot symbols\n",
    "\n",
    "def filterdata(threshold, ignorestr):\n",
    "    \"\"\" Iteratively filter bad times and set indices for later plotting \"\"\"\n",
    "\n",
    "    ignoret = parseignoret(ignorestr)    \n",
    "    hight, highcount = interactive.findhight(data, ignoret=ignoret, threshold=threshold)\n",
    "    plinds['cir'] = interactive.calcinds(data, 6., ignoret=ignoret) # positive cands\n",
    "    plinds['cro'] = interactive.calcinds(data, -6., ignoret=ignoret) # negative cands\n",
    "    plinds['edg'] = interactive.calcinds(data, 7., ignoret=ignoret) # cands with png plots\n",
    "    sortinds = sorted(set(plinds['cir'] + plinds['cro'] + plinds['edg']))\n",
    "    print('Selected {} ({} linked) points.'.format(len(sortinds), len(plinds['edg'])))\n",
    "    \n",
    "    print('Estimated total on target time: {} s\\n'.format(interactive.calcontime(\n",
    "        data, inds=plinds['cir']+plinds['cro']+plinds['edg'])))\n",
    "    \n",
    "    # these must get get rescaled when cands are ignored\n",
    "    data['zs'] = interactive.normprob(d, data['snrs'], inds=sortinds)   \n",
    "\n",
    "    # print high 1s bin counts\n",
    "    if len(hight):\n",
    "        print('High times \\t High counts:')\n",
    "        for i in range(len(hight)):\n",
    "              print('{0}\\t{1}'.format(hight[i], highcount[i]))\n",
    "    else:\n",
    "        print('No high 1s bin counts.')\n",
    "    print('\\n')\n",
    "\n",
    "    # print high cands and their times\n",
    "    biginds = np.argsort(data['abssnr'][sortinds])[-5:]    \n",
    "    print('Top 5 absnr candidates and times:')\n",
    "    for ind in biginds:\n",
    "        print(data['snrs'][sortinds][ind], data['time'][sortinds][ind])\n",
    "    print('\\n')\n",
    "\n",
    "    print('Updating ignorestr.txt with {0}'.format(ignorestr))\n",
    "    with open('ignorestr.txt', 'w') as pkl:\n",
    "        pkl.write(ignorestr)\n",
    "\n",
    "def parseignoret(ignorestr):\n",
    "    if ',' in ignorestr:\n",
    "        ignorelist = ignorestr.split(',')\n",
    "        assert (len(ignorelist)/2.).is_integer(), 'ignorestr be pairs of comma-delimited values.'\n",
    "        ignoret = [(int(ignorelist[i]), int(ignorelist[i+1])) for i in range(0, len(ignorelist), 2)]\n",
    "    else:\n",
    "        ignoret = []\n",
    "    return ignoret        \n",
    "\n",
    "    \n",
    "def displayplot(plottype, sizespec):\n",
    "    \"\"\" Generate interactive plot \"\"\"\n",
    "\n",
    "    plotdict = {'dmt': interactive.plotdmt, 'norm': interactive.plotnorm,\n",
    "               'loc': interactive.plotloc, 'stat': interactive.plotstat,\n",
    "               'all': interactive.plotall}\n",
    "    sizedict = {'dmt': [900,500], 'norm': [700, 700], 'loc': [700,700],\n",
    "                'stat': [700,700]}\n",
    "\n",
    "    sortinds = sorted(set(plinds['cir'] + plinds['cro'] + plinds['edg']))\n",
    "    sizesrc, plaw = sizespec.split('_')\n",
    "    data['sizes'] = interactive.calcsize(data[sizesrc], inds=sortinds, plaw=int(plaw))\n",
    "\n",
    "    if plottype != 'all':\n",
    "        wid, hei = sizedict[plottype]\n",
    "        pl = plotdict[plottype](data, circleinds=plinds['cir'], crossinds=plinds['cro'],\n",
    "                                edgeinds=plinds['edg'], url_path='http://www.aoc.nrao.edu/~claw/plots',\n",
    "                                fileroot=fileroot, plot_width=wid, plot_height=hei)\n",
    "    else:\n",
    "        pl = interactive.plotall(data, circleinds=plinds['cir'], crossinds=plinds['cro'],\n",
    "                                 edgeinds=plinds['edg'], url_path='http://www.aoc.nrao.edu/~claw/plots',\n",
    "                                 fileroot=fileroot, noiseplot=noiseplot)\n",
    "    hdl = show(pl)\n",
    "\n",
    "# could also play with interactive rescaling of symbol size\n",
    "#def setsizes(column, plaw=plaw):\n",
    "#    if column in data.keys():\n",
    "#        data['sizes'] = interactive.calcsize(data[str(column)], plaw=plaw)\n",
    "\n",
    "# set ignorestr\n",
    "ignorestr = open('ignorestr.txt', 'r').read() if os.path.exists('ignorestr.txt') else ''\n",
    "\n",
    "# set widgets\n",
    "threshw = FloatSlider(value=15, min=5, max=20, description='Threshold to find bad times', padding=10)\n",
    "textw = Text(value=ignorestr, description='Times to ignore (comma-delimited)', padding=10)\n",
    "\n",
    "# run once and set up interactive widget\n",
    "filterdata(15, ignorestr)\n",
    "hndl = interact(filterdata, threshold=threshw, ignorestr=textw, __manual=True)"
   ]
  },
  {
   "cell_type": "markdown",
   "metadata": {},
   "source": [
    "### Generate plot"
   ]
  },
  {
   "cell_type": "code",
   "execution_count": null,
   "metadata": {
    "collapsed": false
   },
   "outputs": [],
   "source": [
    "# run plotall once to prefill notebook\n",
    "sizespecw = Dropdown(value='snrs_3', options=['snrs_3', 'snrs_5', 'score_5', 'score_7'],\n",
    "                     description='Sizes spec (\"source_powerlaw\")', padding=10)\n",
    "plotw = Dropdown(options=['all', 'dmt', 'norm', 'loc', 'stat'], description='Type of plot to make', padding=10)\n",
    "\n",
    "displayplot('all', 'snrs_3')\n",
    "hndl = interact(displayplot, plottype=plotw, sizespec=sizespecw, __manual=True)"
   ]
  },
  {
   "cell_type": "markdown",
   "metadata": {},
   "source": [
    "### Take notes"
   ]
  },
  {
   "cell_type": "code",
   "execution_count": null,
   "metadata": {
    "collapsed": false,
    "scrolled": false
   },
   "outputs": [],
   "source": [
    "def addcomment(commentstr):\n",
    "    with open('commentstr.txt', 'w') as pkl:\n",
    "        pkl.write(commentstr)\n",
    "\n",
    "commentstr = open('commentstr.txt', 'r'). read() if os.path.exists('commentstr.txt') else ''\n",
    "textc = Text(value=commentstr, description='Analysis Comments', padding=30)\n",
    "hndl = interact(addcomment, commentstr=textc, __manual=True)"
   ]
  },
  {
   "cell_type": "markdown",
   "metadata": {
    "collapsed": true,
    "urth": {
     "dashboard": {
      "hidden": true
     }
    }
   },
   "source": [
    "### Optional refinement analysis\n",
    "#### Requires download data from archive into working directory\n"
   ]
  },
  {
   "cell_type": "code",
   "execution_count": null,
   "metadata": {
    "collapsed": true,
    "scrolled": false
   },
   "outputs": [],
   "source": []
  }
 ],
 "metadata": {
  "kernelspec": {
   "display_name": "Python 2",
   "language": "python",
   "name": "python2"
  },
  "language_info": {
   "codemirror_mode": {
    "name": "ipython",
    "version": 2
   },
   "file_extension": ".py",
   "mimetype": "text/x-python",
   "name": "python",
   "nbconvert_exporter": "python",
   "pygments_lexer": "ipython2",
   "version": "2.7.11"
  },
  "urth": {
   "dashboard": {
    "cellMargin": 10,
    "defaultCellHeight": 20,
    "layoutStrategy": "packed",
    "maxColumns": 12
   }
  }
 },
 "nbformat": 4,
 "nbformat_minor": 0
}
