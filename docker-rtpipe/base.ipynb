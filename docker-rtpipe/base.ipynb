{
 "cells": [
  {
   "cell_type": "markdown",
   "metadata": {},
   "source": [
    "# realfast analysis"
   ]
  },
  {
   "cell_type": "code",
   "execution_count": null,
   "metadata": {
    "collapsed": false
   },
   "outputs": [],
   "source": [
    "from rtpipe import interactive, reproduce\n",
    "from bokeh.plotting import show, output_notebook\n",
    "import glob"
   ]
  },
  {
   "cell_type": "code",
   "execution_count": null,
   "metadata": {
    "collapsed": false
   },
   "outputs": [],
   "source": [
    "output_notebook()"
   ]
  },
  {
   "cell_type": "code",
   "execution_count": null,
   "metadata": {
    "collapsed": false
   },
   "outputs": [],
   "source": [
    "candsfile = glob.glob('cands_*_merge.pkl')[0]\n",
    "noisefile = glob.glob('noise_*_merge.pkl')[0]\n",
    "fileroot = candsfile.rstrip('_merge.pkl').lstrip('cands_')\n",
    "print('Found: \\n\\t candsfile {} \\n\\t noisefile {} \\n\\t fileroot {} '.format(candsfile, noisefile, fileroot))"
   ]
  },
  {
   "cell_type": "markdown",
   "metadata": {},
   "source": [
    "### Prepare data and noise plot"
   ]
  },
  {
   "cell_type": "code",
   "execution_count": null,
   "metadata": {
    "collapsed": false
   },
   "outputs": [],
   "source": [
    "data = interactive.readdata(candsfile)\n",
    "noiseplot = interactive.plotnoise(noisefile)"
   ]
  },
  {
   "cell_type": "markdown",
   "metadata": {},
   "source": [
    "### Ignoring time range to clean sample of RFI (iterate on this)"
   ]
  },
  {
   "cell_type": "code",
   "execution_count": null,
   "metadata": {
    "collapsed": false
   },
   "outputs": [],
   "source": [
    "ignoret = interactive.findhight(data, ignoret=None)  # ignoret is list of (start,stop) in seconds"
   ]
  },
  {
   "cell_type": "markdown",
   "metadata": {},
   "source": [
    "### Calculate indices and generate summary plot"
   ]
  },
  {
   "cell_type": "code",
   "execution_count": null,
   "metadata": {
    "collapsed": false
   },
   "outputs": [],
   "source": [
    "circleinds = interactive.calcinds(data, 6., ignoret=ignoret) # positive cands\n",
    "crossinds = interactive.calcinds(data, -6., ignoret=ignoret) # negative cands\n",
    "edgeinds = interactive.calcinds(data, 7., ignoret=ignoret) # cands with png plots\n",
    "\n",
    "# plots with more than 200k points can be difficult to use\n",
    "print('Plotting {} points (try to keep under 200k). \\n {} linked points' \\\n",
    "      .format(len(circleinds)+len(crossinds)+len(edgeinds), len(edgeinds)))"
   ]
  },
  {
   "cell_type": "code",
   "execution_count": null,
   "metadata": {
    "collapsed": false
   },
   "outputs": [],
   "source": [
    "combined = interactive.plotall(data, circleinds=circleinds, crossinds=crossinds, edgeinds=edgeinds,\n",
    "                               noiseplot=noiseplot, url_path='../plots', fileroot=fileroot)\n",
    "nbh = show(combined) \n",
    "\n",
    "# can optionally modify 'combined' and update with bokeh.io.push_notebook(nbh)"
   ]
  },
  {
   "cell_type": "code",
   "execution_count": null,
   "metadata": {
    "collapsed": false
   },
   "outputs": [],
   "source": [
    "print('Estimated total on target time: {} s'.format(interactive.calcontime(data, inds=circleinds+crossinds+edgeinds)))"
   ]
  },
  {
   "cell_type": "markdown",
   "metadata": {
    "collapsed": true
   },
   "source": [
    "### Optional refinement analysis\n",
    "#### Requires download data from archive into working directory\n"
   ]
  }
 ],
 "metadata": {
  "kernelspec": {
   "display_name": "Python 2",
   "language": "python",
   "name": "python2"
  },
  "language_info": {
   "codemirror_mode": {
    "name": "ipython",
    "version": 2
   },
   "file_extension": ".py",
   "mimetype": "text/x-python",
   "name": "python",
   "nbconvert_exporter": "python",
   "pygments_lexer": "ipython2",
   "version": "2.7.11"
  }
 },
 "nbformat": 4,
 "nbformat_minor": 0
}
